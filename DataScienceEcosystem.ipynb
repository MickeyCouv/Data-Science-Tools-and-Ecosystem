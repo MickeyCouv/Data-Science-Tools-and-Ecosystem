{
 "cells": [
  {
   "cell_type": "markdown",
   "id": "515a1721-62ba-4ec1-b833-ff7c7f914894",
   "metadata": {},
   "source": [
    "# <center>Data Science Tools and Ecosystem</center>\n",
    "## <center>This notebook is a summary the Data Science Tools and Ecosystem</center>"
   ]
  },
  {
   "cell_type": "markdown",
   "id": "4b383a0d-3c7b-405f-9a52-731d72e9cf84",
   "metadata": {},
   "source": [
    "### Objectives:\n",
    "- Popular languages in data science\n",
    "- Commonly used libraries\n",
    "- Popular IDE's\n",
    "- Some Python math expressions\n"
   ]
  },
  {
   "cell_type": "markdown",
   "id": "d9f7ece6-2e7d-4f19-93ae-383d6827f50f",
   "metadata": {},
   "source": [
    "#### Some of the popular languages data scientists use are: \n",
    "\n",
    "1. Python is a high-level, general-purpose programming language that is widely used in data science. It has a large community of developers who contribute to its vast ecosystem of libraries and tools that make it ideal for data analysis, visualization, and machine learning.\n",
    "\n",
    "2. R is another popular language used in data science, and it has a strong focus on statistical analysis and visualization. It also has a wide variety of packages available for data manipulation, modeling, and machine learning.\n",
    "\n",
    "3. SQL is a specialized language for managing relational databases. It is used extensively in data warehousing, business intelligence, and analytics. SQL is particularly useful for querying and aggregating large datasets.\n",
    "\n",
    "4. Scala is a programming language that is designed to run on the Java Virtual Machine (JVM). It has become popular in data science because of its strong support for distributed computing, making it ideal for big data processing.\n",
    "\n",
    "5. Julia is a relatively new programming language that has been designed with data science in mind. It aims to combine the ease of use of Python with the speed of C++. Julia has a growing ecosystem of packages for scientific computing and data analysis."
   ]
  },
  {
   "cell_type": "markdown",
   "id": "60949e73-93b4-45dc-bf90-bc957effd071",
   "metadata": {},
   "source": [
    "#### Some of the most commonly used libraries by data scientists: \n",
    "\n",
    "1. Scikit-Learn: A machine learning library used for classification, regression, and clustering tasks, including algorithms such as decision trees, random forests, and support vector machines.\n",
    "\n",
    "2. Pandas: A library used for data manipulation and analysis, providing powerful data structures such as data frames for handling and cleaning data.\n",
    "\n",
    "3. NumPy: A library used for numerical computing, providing fast and efficient arrays and matrices operations, mathematical functions, and linear algebra routines.\n",
    "\n",
    "4. Matplotlib: A plotting library used for creating static, interactive, and publication-quality visualizations, including scatter plots, bar charts, and line graphs.\n",
    "\n",
    "5. Seaborn: A statistical data visualization library that is built on top of Matplotlib, providing a higher-level interface for creating beautiful and informative statistical graphics, including heatmaps, distribution plots, and regression plots."
   ]
  },
  {
   "cell_type": "markdown",
   "id": "7f62e917-33a3-4a1c-8138-3355cbef86f9",
   "metadata": {},
   "source": [
    "| Data Science Tools |\n",
    "|--------------------|\n",
    "|  Jupyter Notebook  |\n",
    "|    Apache Spark    |\n",
    "|       RStudio      |"
   ]
  },
  {
   "cell_type": "markdown",
   "id": "abe8c2a1-67d4-4f70-a99c-da9fd59c1323",
   "metadata": {},
   "source": [
    "### Below are a few examples of evaluating arithmetic expressions in Python"
   ]
  },
  {
   "cell_type": "markdown",
   "id": "84343af0-aaa6-430a-908a-fa35e6e02a93",
   "metadata": {},
   "source": [
    "1. Addition"
   ]
  },
  {
   "cell_type": "code",
   "execution_count": 2,
   "id": "96b13a7f-d81c-46af-ab48-7887065c8592",
   "metadata": {},
   "outputs": [
    {
     "data": {
      "text/plain": [
       "5"
      ]
     },
     "execution_count": 2,
     "metadata": {},
     "output_type": "execute_result"
    }
   ],
   "source": [
    "x = 2\n",
    "y = 3\n",
    "x+y"
   ]
  },
  {
   "cell_type": "markdown",
   "id": "5066b3a6-a0a7-474b-819e-6241e404fc95",
   "metadata": {},
   "source": [
    "2. Subtraction"
   ]
  },
  {
   "cell_type": "code",
   "execution_count": 3,
   "id": "a3a2f8df-4473-4040-924c-46c26f40f304",
   "metadata": {},
   "outputs": [
    {
     "data": {
      "text/plain": [
       "-1"
      ]
     },
     "execution_count": 3,
     "metadata": {},
     "output_type": "execute_result"
    }
   ],
   "source": [
    "x-y"
   ]
  },
  {
   "cell_type": "markdown",
   "id": "898997a7-f112-4b83-b236-50556af81d3b",
   "metadata": {},
   "source": [
    "3. Multiplication"
   ]
  },
  {
   "cell_type": "code",
   "execution_count": 4,
   "id": "90b291cb-b207-4dd6-90d7-0e485937143e",
   "metadata": {},
   "outputs": [
    {
     "data": {
      "text/plain": [
       "6"
      ]
     },
     "execution_count": 4,
     "metadata": {},
     "output_type": "execute_result"
    }
   ],
   "source": [
    "x*y"
   ]
  },
  {
   "cell_type": "markdown",
   "id": "9c268abb-f1f8-4651-8160-37c2f262d923",
   "metadata": {},
   "source": [
    "4. Division"
   ]
  },
  {
   "cell_type": "code",
   "execution_count": 5,
   "id": "4ef12e52-0b74-4549-a18d-b754082aaa29",
   "metadata": {},
   "outputs": [
    {
     "data": {
      "text/plain": [
       "0.6666666666666666"
      ]
     },
     "execution_count": 5,
     "metadata": {},
     "output_type": "execute_result"
    }
   ],
   "source": [
    "x/y"
   ]
  },
  {
   "cell_type": "markdown",
   "id": "61658e3d-35c2-457e-8eab-590f49c995fa",
   "metadata": {},
   "source": [
    "5. Floor Division"
   ]
  },
  {
   "cell_type": "code",
   "execution_count": 6,
   "id": "adaf572b-9bff-4714-bc22-755a7e981d6c",
   "metadata": {},
   "outputs": [
    {
     "data": {
      "text/plain": [
       "0"
      ]
     },
     "execution_count": 6,
     "metadata": {},
     "output_type": "execute_result"
    }
   ],
   "source": [
    "x//y"
   ]
  },
  {
   "cell_type": "markdown",
   "id": "864cad88-461b-4f0a-9509-52604c72b77c",
   "metadata": {},
   "source": [
    "6. Modulo"
   ]
  },
  {
   "cell_type": "code",
   "execution_count": 7,
   "id": "110d7181-a524-44fa-8d46-04c08b6a3869",
   "metadata": {},
   "outputs": [
    {
     "data": {
      "text/plain": [
       "2"
      ]
     },
     "execution_count": 7,
     "metadata": {},
     "output_type": "execute_result"
    }
   ],
   "source": [
    "x%y"
   ]
  },
  {
   "cell_type": "markdown",
   "id": "e7ac5334-0df1-4429-be27-abc58bd709ee",
   "metadata": {},
   "source": [
    "7. Exponentiation"
   ]
  },
  {
   "cell_type": "code",
   "execution_count": 8,
   "id": "bcffb076-a510-47b5-9d75-9f29ba4340e4",
   "metadata": {},
   "outputs": [
    {
     "data": {
      "text/plain": [
       "8"
      ]
     },
     "execution_count": 8,
     "metadata": {},
     "output_type": "execute_result"
    }
   ],
   "source": [
    "x**y"
   ]
  },
  {
   "cell_type": "code",
   "execution_count": 9,
   "id": "788e8d1c-d890-488c-9bc7-b12a40bb5ca3",
   "metadata": {},
   "outputs": [
    {
     "data": {
      "text/plain": [
       "17"
      ]
     },
     "execution_count": 9,
     "metadata": {},
     "output_type": "execute_result"
    }
   ],
   "source": [
    "# This a simple arithmetic expression to mutiply then add integers\n",
    "\n",
    "x = 3\n",
    "y = 4\n",
    "\n",
    "(x*y)+5"
   ]
  },
  {
   "cell_type": "code",
   "execution_count": 11,
   "id": "0e2ace90-ee88-4f8f-8701-b0efd2d16be1",
   "metadata": {},
   "outputs": [
    {
     "name": "stdout",
     "output_type": "stream",
     "text": [
      "3.3333333333333335\n"
     ]
    }
   ],
   "source": [
    "# Here is a simple expression converting minutes to hours\n",
    "\n",
    "def hours(x):\n",
    "    return x / 60\n",
    "\n",
    "minutes = 200\n",
    "print(hours(minutes))"
   ]
  },
  {
   "cell_type": "markdown",
   "id": "1502e9ae-ab6c-49c8-9669-bf4d421247fd",
   "metadata": {},
   "source": [
    "## Author\n",
    "Mickey Couvertier"
   ]
  },
  {
   "cell_type": "markdown",
   "id": "36c1001e-063c-42e0-88a8-7013c0036faf",
   "metadata": {},
   "source": [
    "## License\n",
    "\n",
    "This notebook is licensed under the terms of the MIT License. \n",
    "Please see the `LICENSE` file in the root directory of this repository for more information."
   ]
  },
  {
   "cell_type": "code",
   "execution_count": null,
   "id": "656803bb-d5af-4903-84a8-cbca47fa53b7",
   "metadata": {},
   "outputs": [],
   "source": []
  }
 ],
 "metadata": {
  "kernelspec": {
   "display_name": "Python 3 (ipykernel)",
   "language": "python",
   "name": "python3"
  },
  "language_info": {
   "codemirror_mode": {
    "name": "ipython",
    "version": 3
   },
   "file_extension": ".py",
   "mimetype": "text/x-python",
   "name": "python",
   "nbconvert_exporter": "python",
   "pygments_lexer": "ipython3",
   "version": "3.9.13"
  }
 },
 "nbformat": 4,
 "nbformat_minor": 5
}
